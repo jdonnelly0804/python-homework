{
 "cells": [
  {
   "cell_type": "code",
   "execution_count": 53,
   "metadata": {},
   "outputs": [],
   "source": [
    "#init imports\n",
    "from pathlib import Path\n",
    "import csv"
   ]
  },
  {
   "cell_type": "code",
   "execution_count": 54,
   "metadata": {},
   "outputs": [],
   "source": [
    "#Initialize empty lists that will store the data\n",
    "dates=[]\n",
    "profit_n_loss= []"
   ]
  },
  {
   "cell_type": "code",
   "execution_count": 55,
   "metadata": {},
   "outputs": [],
   "source": [
    "#Code opens the CSV file in a csv reader object\n",
    "with open(\"Pybank/Resources/budget_data.csv\",\"r\") as file:\n",
    "    csvreader = csv.reader(file, delimiter=',')\n",
    "    header = next(csvreader)\n",
    "\n",
    "#Adds data to lists above so we can separate dates/pnl\n",
    "    for row in csvreader:\n",
    "        date = row[0]\n",
    "        p_n_l = int(row[1])\n",
    "        dates.append(date)\n",
    "        profit_n_loss.append(p_n_l)\n",
    "\n"
   ]
  },
  {
   "cell_type": "code",
   "execution_count": 56,
   "metadata": {},
   "outputs": [],
   "source": [
    "#Initialize starting variables\n",
    "count = 0 \n",
    "total_pnl = 0"
   ]
  },
  {
   "cell_type": "code",
   "execution_count": 57,
   "metadata": {},
   "outputs": [],
   "source": [
    "for pnl in profit_n_loss:\n",
    "\n",
    "    #Sum of profit/loss and count months:\n",
    "    total_pnl += pnl \n",
    "    count += 1 \n",
    "\n",
    "#Create list to store changes in PNL:\n",
    "change_in_pnl = []\n",
    "#Set prev rev to first number of PNL so first calculation = 0\n",
    "previous_rev = 867884\n",
    "\n",
    "#calculate change in PNL and append to list\n",
    "for x in profit_n_loss:\n",
    "    change = x - previous_rev\n",
    "    previous_rev = x \n",
    "    change_in_pnl.append(change)\n",
    "\n",
    "\n"
   ]
  },
  {
   "cell_type": "code",
   "execution_count": 58,
   "metadata": {},
   "outputs": [],
   "source": [
    "#Sum change in PNL and /85 to get avg change\n",
    "sum_of_changes = sum(change_in_pnl)\n",
    "avg_daily_chg = sum_of_changes/85"
   ]
  },
  {
   "cell_type": "code",
   "execution_count": 59,
   "metadata": {},
   "outputs": [],
   "source": [
    "#Get max/min change in values using max/min functions\n",
    "max_change = max(change_in_pnl)\n",
    "min_change = min(change_in_pnl)"
   ]
  },
  {
   "cell_type": "code",
   "execution_count": 60,
   "metadata": {},
   "outputs": [],
   "source": [
    "#Used following code: \n",
    "#print(change_in_pnl.index(1926159))--> number is max change from above\n",
    "#Thus max change occured on 25th index:\n",
    "index_of_max = dates[25]\n",
    "\n",
    "#Same method for minimum:\n",
    "index_of_min = dates[44]"
   ]
  },
  {
   "cell_type": "code",
   "execution_count": 61,
   "metadata": {},
   "outputs": [],
   "source": [
    "#Output variable that will be written to file\n",
    "output = f\"\"\"\n",
    "Financial Analysis\n",
    "------------------------\n",
    "Total Months: {count}\n",
    "Total PNL: ${total_pnl}\n",
    "Average Change: ${round(avg_daily_chg,2)}\n",
    "Greatest Increase in Profits: {index_of_max} : (${max_change})\n",
    "Greatest Decrease in Profits: {index_of_min} : (${min_change})\n",
    "\"\"\""
   ]
  },
  {
   "cell_type": "code",
   "execution_count": 62,
   "metadata": {},
   "outputs": [],
   "source": [
    "#Code to write output to text file\n",
    "with open(\"output.txt\",\"w\") as file:\n",
    "    file.write(output)"
   ]
  }
 ],
 "metadata": {
  "kernelspec": {
   "display_name": "Python 3.9.12 ('base')",
   "language": "python",
   "name": "python3"
  },
  "language_info": {
   "codemirror_mode": {
    "name": "ipython",
    "version": 3
   },
   "file_extension": ".py",
   "mimetype": "text/x-python",
   "name": "python",
   "nbconvert_exporter": "python",
   "pygments_lexer": "ipython3",
   "version": "3.9.12"
  },
  "orig_nbformat": 4,
  "vscode": {
   "interpreter": {
    "hash": "3071ee50c89c1c794c04ecbcb4eb8f9585468a45756c3a74d8e9479e4a2bc436"
   }
  }
 },
 "nbformat": 4,
 "nbformat_minor": 2
}
